{
 "cells": [
  {
   "cell_type": "markdown",
   "id": "59b3af92",
   "metadata": {},
   "source": [
    "# Sprint 2. Estructures de dades"
   ]
  },
  {
   "cell_type": "markdown",
   "id": "0cd88d3e",
   "metadata": {},
   "source": [
    "## Exercici 1. Llista de 4 llistes dels trimestres de l'any"
   ]
  },
  {
   "cell_type": "code",
   "execution_count": 14,
   "id": "c20b54b4",
   "metadata": {},
   "outputs": [
    {
     "name": "stdout",
     "output_type": "stream",
     "text": [
      "['Gener', 'Febrer', 'Març'] ['Abril', 'Maig', 'Juny'] ['Juliol', 'Agost', 'Setembre'] ['Octubre', 'Novembre', 'Desembre']\n",
      "[['Gener', 'Febrer', 'Març'], ['Abril', 'Maig', 'Juny'], ['Juliol', 'Agost', 'Setembre'], ['Octubre', 'Novembre', 'Desembre']]\n"
     ]
    }
   ],
   "source": [
    "T1 = list((\"Gener\",\"Febrer\",\"Març\"))\n",
    "T2 = list((\"Abril\",\"Maig\",\"Juny\"))\n",
    "T3 = list((\"Juliol\",\"Agost\",\"Setembre\"))\n",
    "T4 = list((\"Octubre\",\"Novembre\",\"Desembre\"))\n",
    "Any=list((T1,T2,T3,T4))\n",
    "print(T1,T2,T3,T4)\n",
    "print(Any)"
   ]
  },
  {
   "cell_type": "markdown",
   "id": "a00fd744",
   "metadata": {},
   "source": [
    "## Exercici 2. Accedir al segon mes del primer trimestre, els mesos del primer trimestre, Setembre i Octubre"
   ]
  },
  {
   "cell_type": "code",
   "execution_count": 33,
   "id": "bb6e9e88",
   "metadata": {},
   "outputs": [
    {
     "name": "stdout",
     "output_type": "stream",
     "text": [
      "Febrer\n",
      "['Gener', 'Febrer', 'Març']\n",
      "Setembre i Octubre\n"
     ]
    }
   ],
   "source": [
    "print(Any[0][1])\n",
    "print(Any[0])\n",
    "print(Any[2][2]+\" i \"+Any[3][0])"
   ]
  },
  {
   "cell_type": "markdown",
   "id": "710e4eda",
   "metadata": {},
   "source": [
    "## Exercici 3. Crea una llista amb nombres desordenats i respon a les següents preguntes:"
   ]
  },
  {
   "cell_type": "markdown",
   "id": "83162989",
   "metadata": {},
   "source": [
    "Quants números hi ha?\n",
    "Quantes vegades apareix el número 3\n",
    "Quantes vegades apareixen els nombres 3 i 4?\n",
    "Quin és el número més gran?\n",
    "Quins són els 3 números més petits?\n",
    "Quin és el rang d’aquesta llista?"
   ]
  },
  {
   "cell_type": "code",
   "execution_count": 64,
   "id": "fcc3b05c",
   "metadata": {},
   "outputs": [
    {
     "name": "stdout",
     "output_type": "stream",
     "text": [
      "Hi ha 41 números\n",
      "Vegades que es repeteix el número 3: 6\n",
      "Vegades que es repeteix el número 3 i 4: 11\n",
      "Llista ordenada ascendent: [1, 1, 1, 1, 2, 2, 2, 3, 3, 3, 3, 3, 3, 4, 4, 4, 4, 4, 5, 5, 5, 6, 6, 6, 6, 6, 7, 7, 7, 7, 8, 8, 8, 8, 8, 9, 9, 9, 10, 12, 85]\n",
      "El número més gran és: 85\n",
      "[1, 2, 3, 4, 5, 6, 7, 8, 9, 10, 12, 85]\n",
      "Els tres números més petits són: [1, 2, 3]\n",
      "El rang de la llista és: 85 - 1 = 84\n"
     ]
    }
   ],
   "source": [
    "num_al=list((1,2,3,8,4,5,6,7,8,9,10,1,3,4,5,6,4,3,6,8,7,1,2,3,85,12,3,6,7,8,9,4,1,2,3,4,5,6,7,8,9))\n",
    "num_al.sort()\n",
    "num_al_copy=num_al.copy()\n",
    "convert_to_set_num_al=set(num_al_copy)\n",
    "no_duplicates_list_num_al=list((convert_to_set_num_al))\n",
    "print(\"Hi ha \" + str(len(num_al)) + \" números\")\n",
    "print(\"Vegades que es repeteix el número 3: \" + str(num_al.count(3)))\n",
    "print(\"Vegades que es repeteix el número 3 i 4: \" + str(num_al.count(3)+num_al.count(4)))\n",
    "print(\"Llista ordenada ascendent: \" + str(num_al))\n",
    "print(\"El número més gran és: \" + str(num_al[-1]))\n",
    "print(no_duplicates_list_num_al)\n",
    "print(\"Els tres números més petits són: \" + str(no_duplicates_list_num_al[0:3]))\n",
    "print(\"El rang de la llista és: \" + str(no_duplicates_list_num_al[-1]) + \" - \" \n",
    "      + str(no_duplicates_list_num_al[0]) + \" = \" \n",
    "+ str(no_duplicates_list_num_al[-1]-no_duplicates_list_num_al[0]))"
   ]
  },
  {
   "cell_type": "markdown",
   "id": "dfb451a4",
   "metadata": {},
   "source": [
    "##Exercici 4. Crea un diccionari de la següent forma i respon a les preguntes:"
   ]
  },
  {
   "cell_type": "markdown",
   "id": "f82d324f",
   "metadata": {},
   "source": [
    "compra = { \"Pomes\" : {\"Qty\": 5, \"€\": 0.42}, \"Peres\" : {\"Qty\": 3, \"€\": 0.66} }\n",
    "\n",
    "Afegeix alguna fruita més\n",
    "Quant han costat les peres en total?\n",
    "Quantes fruites hem comprat en total?\n",
    "Quina és la fruita més cara?"
   ]
  },
  {
   "cell_type": "code",
   "execution_count": 131,
   "id": "6eeb0e2b",
   "metadata": {},
   "outputs": [
    {
     "name": "stdout",
     "output_type": "stream",
     "text": [
      "- Llista de la compra: {'Pomes': {'Qty': 5, '€': 0.42}, 'Peres': {'Qty': 3, '€': 0.66}}\n",
      "- Afegim cireres a la llista de la compra: {'Pomes': {'Qty': 5, '€': 0.42}, 'Peres': {'Qty': 3, '€': 0.66}, 'Cireres': {'Qty': 38, '€': 5.99}}\n",
      "dict_values([{'Qty': 5, '€': 0.42}, {'Qty': 3, '€': 0.66}, {'Qty': 38, '€': 5.99}])\n",
      "- Cost total de les peres en €: 1.98\n",
      "- Fruites comprades: 3 ['Pomes', 'Peres', 'Cireres']\n"
     ]
    }
   ],
   "source": [
    "compra = { \"Pomes\" : {\"Qty\": 5, \"€\": 0.42}, \"Peres\" : {\"Qty\": 3, \"€\": 0.66} }\n",
    "print(\"- Llista de la compra: \" + str(compra))\n",
    "compra.update({\"Cireres\" : {\"Qty\": 38, \"€\": 5.99}})\n",
    "print(\"- Afegim cireres a la llista de la compra: \" + str(compra))\n",
    "x=compra.keys()\n",
    "fruites=list(x)\n",
    "y=compra.values()\n",
    "print(y)\n",
    "\n",
    "if \"Peres\" in compra:\n",
    "    print(\"- Cost total de les peres en €: \" + str(compra[\"Peres\"][\"Qty\"]*compra[\"Peres\"][\"€\"]))\n",
    "\n",
    "print(\"- Fruites comprades: \" + str(len(x)) + \" \" + str(fruites))"
   ]
  },
  {
   "cell_type": "code",
   "execution_count": 167,
   "id": "1d671315",
   "metadata": {},
   "outputs": [
    {
     "name": "stdout",
     "output_type": "stream",
     "text": [
      "Els preus de les fruites són: {'Pomes': 0.42, 'Peres': 0.66, 'Cireres': 5.99}\n",
      "Les fruites més cares són: Cireres, que valen en €/kg a 5.99\n"
     ]
    }
   ],
   "source": [
    "# Maximum Value in Nested Dictionary\n",
    "# Using loop\n",
    "fruit_preu = {}\n",
    "for i,j in compra.items():\n",
    "    ##print(i)\n",
    "    ##print(compra[i][\"€\"])\n",
    "    fruit_preu[i] = compra[i][\"€\"]\n",
    "\n",
    "print(\"Els preus de les fruites són: \" + str(fruit_preu))\n",
    "\n",
    "max_key = max(fruit_preu, key=fruit_preu.get)\n",
    "\n",
    "all_values = fruit_preu.values()\n",
    "max_value = max(all_values)\n",
    "\n",
    "print(\"Les fruites més cares són: \"+ str(max_key)+ \", que valen en €/kg a \" + str(max_value))\n",
    "\n"
   ]
  },
  {
   "cell_type": "code",
   "execution_count": null,
   "id": "439ab367",
   "metadata": {},
   "outputs": [],
   "source": []
  },
  {
   "cell_type": "code",
   "execution_count": null,
   "id": "6628e966",
   "metadata": {},
   "outputs": [],
   "source": []
  },
  {
   "cell_type": "code",
   "execution_count": null,
   "id": "7bd15990",
   "metadata": {},
   "outputs": [],
   "source": []
  }
 ],
 "metadata": {
  "kernelspec": {
   "display_name": "Python 3 (ipykernel)",
   "language": "python",
   "name": "python3"
  },
  "language_info": {
   "codemirror_mode": {
    "name": "ipython",
    "version": 3
   },
   "file_extension": ".py",
   "mimetype": "text/x-python",
   "name": "python",
   "nbconvert_exporter": "python",
   "pygments_lexer": "ipython3",
   "version": "3.9.7"
  }
 },
 "nbformat": 4,
 "nbformat_minor": 5
}
